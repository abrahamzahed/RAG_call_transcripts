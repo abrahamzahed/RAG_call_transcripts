{
 "cells": [
  {
   "cell_type": "code",
   "execution_count": 0,
   "metadata": {
    "application/vnd.databricks.v1+cell": {
     "cellMetadata": {},
     "inputWidgets": {},
     "nuid": "5c988d18-f324-4c60-a42d-b51ce51b491f",
     "showTitle": false,
     "title": ""
    }
   },
   "outputs": [],
   "source": [
    "!pip install requirements.txt"
   ]
  },
  {
   "cell_type": "code",
   "execution_count": 0,
   "metadata": {
    "application/vnd.databricks.v1+cell": {
     "cellMetadata": {},
     "inputWidgets": {},
     "nuid": "a9da8c57-46ab-4555-af81-8fcff0c178f2",
     "showTitle": false,
     "title": ""
    }
   },
   "outputs": [],
   "source": [
    "dbutils.library.restartPython()"
   ]
  },
  {
   "cell_type": "code",
   "execution_count": 0,
   "metadata": {
    "application/vnd.databricks.v1+cell": {
     "cellMetadata": {},
     "inputWidgets": {},
     "nuid": "7704fa92-e411-44c0-9bab-be3354579ca6",
     "showTitle": false,
     "title": ""
    }
   },
   "outputs": [],
   "source": [
    "from databricks.vector_search.client import VectorSearchClient"
   ]
  },
  {
   "cell_type": "code",
   "execution_count": 0,
   "metadata": {
    "application/vnd.databricks.v1+cell": {
     "cellMetadata": {},
     "inputWidgets": {},
     "nuid": "d741b624-ef8a-4935-8d63-7d5aa03d6740",
     "showTitle": false,
     "title": ""
    }
   },
   "outputs": [],
   "source": [
    "#Create the endpoint\n",
    "client = VectorSearchClient(service_principal_client_id=<CLIENT_ID>,service_principal_client_secret=<CLIENT_SECRET>)\n",
    "\n",
    "client.create_endpoint(\n",
    "    name=\"call_transcripts_vector_endpoint\",\n",
    "    endpoint_type=\"STANDARD\"\n",
    ")"
   ]
  },
  {
   "cell_type": "code",
   "execution_count": 0,
   "metadata": {
    "application/vnd.databricks.v1+cell": {
     "cellMetadata": {},
     "inputWidgets": {},
     "nuid": "356a0523-0dd0-4679-9c07-f5c1f3512e0f",
     "showTitle": false,
     "title": ""
    }
   },
   "outputs": [],
   "source": [
    "transcripts = [\n",
    "    (1, \"Customer: Hi, I'm having trouble with my data plan. It seems to be running out faster than usual. Agent: I understand your concern. Let's take a look at your account and usage patterns to identify any issues.\"),\n",
    "    (2, \"Customer: Hello, I'd like to upgrade my phone. Can you tell me what options are available? Agent: Certainly! I'd be happy to go over our current phone upgrade options with you. What type of phone are you interested in?\"),\n",
    "    (3, \"Customer: I'm getting poor signal at my new house. Is there anything that can be done? Agent: I'm sorry to hear that. Let's check the coverage in your area and see if there are any network improvements planned. Can you provide me with your new address?\"),\n",
    "    (4, \"Customer: My bill seems higher than usual this month. Can you explain why? Agent: Of course, I'd be glad to review your bill with you. Let's go through the charges together and I'll explain any changes or additional fees.\"),\n",
    "    (5, \"Customer: I'm traveling abroad next week. How can I use my phone internationally? Agent: Great question! I can help you set up an international plan for your trip. First, let me know which countries you'll be visiting and for how long.\")\n",
    "]\n",
    "\n",
    "transcripts_df = spark.createDataFrame(data, [\"id\", \"call_transcript\"])\n",
    "\n",
    "(transcripts_df.write\n",
    "  .format(\"delta\")\n",
    "  .mode(\"overwrite\")\n",
    "  .saveAsTable(\"dev.call_analytics.transcripts\"))"
   ]
  },
  {
   "cell_type": "code",
   "execution_count": 0,
   "metadata": {
    "application/vnd.databricks.v1+cell": {
     "cellMetadata": {},
     "inputWidgets": {},
     "nuid": "ded3e0f9-a261-4cfe-aa88-f343a0c9456c",
     "showTitle": false,
     "title": ""
    }
   },
   "outputs": [],
   "source": [
    "index = client.create_delta_sync_index(\n",
    "  endpoint_name=\"call_transcripts_vector_endpoint\",\n",
    "  source_table_name=\"dev.call_analytics.transcripts\",\n",
    "  index_name=\"dev.call_analytics_transcripts_index\",\n",
    "  pipeline_type=\"CONTINUOUS\", #update the index anytime the source table changes\n",
    "  primary_key=\"id\",\n",
    "  embedding_source_column=\"text\",\n",
    "  embedding_model_endpoint_name=\"e5-small-v2\"\n",
    ")"
   ]
  }
 ],
 "metadata": {
  "application/vnd.databricks.v1+notebook": {
   "dashboards": [],
   "environmentMetadata": null,
   "language": "python",
   "notebookMetadata": {
    "pythonIndentUnit": 4
   },
   "notebookName": "create_vector_index",
   "widgets": {}
  }
 },
 "nbformat": 4,
 "nbformat_minor": 0
}
