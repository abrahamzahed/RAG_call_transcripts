{
 "cells": [
  {
   "cell_type": "code",
   "execution_count": 0,
   "metadata": {
    "application/vnd.databricks.v1+cell": {
     "cellMetadata": {},
     "inputWidgets": {},
     "nuid": "3901972b-c87a-444b-84e7-f4b691039e2f",
     "showTitle": false,
     "title": ""
    }
   },
   "outputs": [],
   "source": [
    "import yaml\n",
    "\n",
    "# Load the configuration\n",
    "with open(\"app_config.yaml\", \"r\") as config_file:\n",
    "    app_config = yaml.safe_load(config_file)\n",
    "\n",
    "# Access configuration values\n",
    "endpoint_name = config['env'][0]['value']"
   ]
  },
  {
   "cell_type": "code",
   "execution_count": 0,
   "metadata": {
    "application/vnd.databricks.v1+cell": {
     "cellMetadata": {},
     "inputWidgets": {},
     "nuid": "54251991-ec08-4a3e-81da-2f4aa6683dbb",
     "showTitle": false,
     "title": ""
    }
   },
   "outputs": [],
   "source": [
    "%%writefile chatbot_app/main.py\n",
    "from fastapi import FastAPI\n",
    "import gradio as gr\n",
    "import os\n",
    "from gradio.themes.utils import sizes\n",
    "from databricks.sdk import WorkspaceClient\n",
    "from databricks.sdk.service.serving import ChatMessage, ChatMessageRole\n",
    "\n",
    "app = FastAPI()\n",
    "\n",
    "# your endpoint will directly be setup with proper permissions when you deploy your app\n",
    "w = WorkspaceClient()\n",
    "available_endpoints = [x.name for x in w.serving_endpoints.list()]\n",
    "\n",
    "\n",
    "def respond(message, history, dropdown):\n",
    "    if len(message.strip()) == 0:\n",
    "        return \"ERROR the question should not be empty\"\n",
    "    try:\n",
    "        messages = []\n",
    "        if history:\n",
    "            for human, assistant in history:\n",
    "                messages.append(ChatMessage(content=human, role=ChatMessageRole.USER))\n",
    "                messages.append(\n",
    "                    ChatMessage(content=assistant, role=ChatMessageRole.ASSISTANT)\n",
    "                )\n",
    "        messages.append(ChatMessage(content=message, role=ChatMessageRole.USER))\n",
    "        response = w.serving_endpoints.query(\n",
    "            name=dropdown,\n",
    "            messages=messages,\n",
    "            temperature=1.0,\n",
    "            stream=False,\n",
    "        )\n",
    "    except Exception as error:\n",
    "        return f\"ERROR requesting endpoint {dropdown}: {error}\"\n",
    "    return response.choices[0].message.content\n",
    "\n",
    "\n",
    "theme = gr.themes.Soft(\n",
    "    text_size=sizes.text_sm,\n",
    "    radius_size=sizes.radius_sm,\n",
    "    spacing_size=sizes.spacing_sm,\n",
    ")\n",
    "\n",
    "call_app = gr.ChatInterface(\n",
    "    respond,\n",
    "    chatbot=gr.Chatbot(\n",
    "        show_label=False, container=False, show_copy_button=True, bubble_full_width=True\n",
    "    ),\n",
    "    textbox=gr.Textbox(placeholder=\"Ask a question here\", container=False, scale=7),\n",
    "    title=\"Customer Service Call Transcript Analytics Bot\",\n",
    "    description=\"This chatbot will help you understand what happens when T-Mobile customers call our customer support. <br>It has access to all our call transcripts to help you discover patterns and build strategies to improve the customer experience.\",\n",
    "    examples=[\n",
    "        [\"How do our customer support agents respond to network issues?\"],\n",
    "        [\"What is the most common resolution when customers state they cannot pay their bill?\"]\n",
    "    ],\n",
    "    cache_examples=False,\n",
    "    theme=theme,\n",
    "    retry_btn=None,\n",
    "    undo_btn=None,\n",
    "    clear_btn=\"Clear\",\n",
    "    additional_inputs=gr.Dropdown(\n",
    "        choices=available_endpoints,\n",
    "        value=os.environ[\"MODEL_SERVING_ENDPOINT\"],\n",
    "        label=\"Serving Endpoint\",\n",
    "    ),\n",
    "    additional_inputs_accordion=\"Settings\",\n",
    ")\n",
    "\n",
    "call_app.queue(default_concurrency_limit=100)\n",
    "app = gr.mount_gradio_app(app, call_app, path=\"/\")"
   ]
  },
  {
   "cell_type": "code",
   "execution_count": 0,
   "metadata": {
    "application/vnd.databricks.v1+cell": {
     "cellMetadata": {},
     "inputWidgets": {},
     "nuid": "c65053a3-aed6-44d6-9e35-84d659bc9c73",
     "showTitle": false,
     "title": ""
    }
   },
   "outputs": [],
   "source": [
    "app_name = \"call-transcript-chatbot-app\"\n",
    "\n",
    "#Helper is defined in the _resources/02-lakehouse-app-helpers notebook (temporary helper)\n",
    "helper = LakehouseAppHelper()\n",
    "app_details = helper.create(app_name, app_description=\"Call transcript analysis chatbot app\")"
   ]
  },
  {
   "cell_type": "code",
   "execution_count": 0,
   "metadata": {
    "application/vnd.databricks.v1+cell": {
     "cellMetadata": {},
     "inputWidgets": {},
     "nuid": "8c916b47-b408-4b14-98ab-d8258f320362",
     "showTitle": false,
     "title": ""
    }
   },
   "outputs": [],
   "source": [
    "helper.add_dependencies(\n",
    "    app_name=app_name,\n",
    "    dependencies=[\n",
    "        {\n",
    "            \"name\": \"rag-endpoint\",\n",
    "            \"serving_endpoint\": {\n",
    "                \"name\": endpoint_name,\n",
    "                \"permission\": \"CAN_QUERY\",\n",
    "            },\n",
    "        }\n",
    "    ],\n",
    "    overwrite=False # if False dependencies will be appended to existing ones\n",
    ")"
   ]
  },
  {
   "cell_type": "code",
   "execution_count": 0,
   "metadata": {
    "application/vnd.databricks.v1+cell": {
     "cellMetadata": {},
     "inputWidgets": {},
     "nuid": "5d33c2ab-a086-4ea6-8f2e-017817ad36bf",
     "showTitle": false,
     "title": ""
    }
   },
   "outputs": [],
   "source": [
    "helper.deploy(app_name, os.path.join(os.getcwd(), 'chatbot_app'))\n",
    "helper.details(app_name)"
   ]
  }
 ],
 "metadata": {
  "application/vnd.databricks.v1+notebook": {
   "dashboards": [],
   "environmentMetadata": null,
   "language": "python",
   "notebookMetadata": {
    "pythonIndentUnit": 4
   },
   "notebookName": "deploy_RAG_app",
   "widgets": {}
  }
 },
 "nbformat": 4,
 "nbformat_minor": 0
}
