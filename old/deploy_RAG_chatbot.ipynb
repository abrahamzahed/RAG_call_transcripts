{
 "cells": [
  {
   "cell_type": "code",
   "execution_count": 0,
   "metadata": {
    "application/vnd.databricks.v1+cell": {
     "cellMetadata": {},
     "inputWidgets": {},
     "nuid": "daac63c2-a029-430b-863f-34e41bb47225",
     "showTitle": false,
     "title": ""
    }
   },
   "outputs": [],
   "source": [
    "!pip install requirements.txt"
   ]
  },
  {
   "cell_type": "code",
   "execution_count": 0,
   "metadata": {
    "application/vnd.databricks.v1+cell": {
     "cellMetadata": {},
     "inputWidgets": {},
     "nuid": "4bae81fd-aa94-4e80-b0cf-5ff9a078327c",
     "showTitle": false,
     "title": ""
    }
   },
   "outputs": [],
   "source": [
    "dbutils.library.restartPython()"
   ]
  },
  {
   "cell_type": "code",
   "execution_count": 0,
   "metadata": {
    "application/vnd.databricks.v1+cell": {
     "cellMetadata": {},
     "inputWidgets": {},
     "nuid": "8d39e3e3-a64d-4080-a8cf-044657f24b7c",
     "showTitle": false,
     "title": ""
    }
   },
   "outputs": [],
   "source": [
    "import yaml\n",
    "\n",
    "# Load the configuration\n",
    "with open(\"config.yaml\", \"r\") as config_file:\n",
    "    config = yaml.safe_load(config_file)\n",
    "\n",
    "# Access configuration values\n",
    "catalog = config['catalog']\n",
    "schema = config['schema']\n",
    "model_name = config['model_name']\n",
    "\n",
    "# Construct full model name\n",
    "model_name_full = f\"{catalog}.{schema}.{model_name}\""
   ]
  },
  {
   "cell_type": "code",
   "execution_count": 0,
   "metadata": {
    "application/vnd.databricks.v1+cell": {
     "cellMetadata": {},
     "inputWidgets": {},
     "nuid": "3aca738f-0dd8-4b5e-bd80-5d23ea7edbb3",
     "showTitle": false,
     "title": ""
    }
   },
   "outputs": [],
   "source": [
    "from databricks import agents"
   ]
  },
  {
   "cell_type": "code",
   "execution_count": 0,
   "metadata": {
    "application/vnd.databricks.v1+cell": {
     "cellMetadata": {},
     "inputWidgets": {},
     "nuid": "3d9f6cdb-8ac2-44db-aa03-354884866e25",
     "showTitle": false,
     "title": ""
    }
   },
   "outputs": [],
   "source": [
    "instructions_to_reviewer = f\"\"\"### Instructions for Testing call transcript Chatbot assistant\n",
    "\n",
    "1. **Variety of Questions**:\n",
    "   - Please try a wide range of questions that you anticipate the end users of the application will ask. This helps us ensure the application can handle the expected queries effectively.\n",
    "\n",
    "2. **Feedback on Answers**:\n",
    "   - After asking each question, use the feedback widgets provided to review the answer given by the application.\n",
    "   - If you think the answer is incorrect or could be improved, please use \"Edit Answer\" to correct it. Your corrections will enable our team to refine the application's accuracy.\n",
    "\n",
    "3. **Review of Returned Documents**:\n",
    "   - Carefully review each document that the system returns in response to your question.\n",
    "   - Use the thumbs up/down feature to indicate whether the document was relevant to the question asked. A thumbs up signifies relevance, while a thumbs down indicates the document was not useful.\"\"\"\n",
    "\n",
    "# Register the chain to Unity Catalog\n",
    "uc_registered_model_info = mlflow.register_model(model_uri=logged_chain_info.model_uri, name=model_name_full)\n",
    "\n",
    "# Deploy to enable the Review APP and create an API endpoint\n",
    "deployment_info = agents.deploy(model_name=model_name_full, model_version=uc_registered_model_info.version, scale_to_zero=True)\n",
    "\n",
    "# Add the user-facing instructions to the Review App\n",
    "agents.set_review_instructions(model_name_full, instructions_to_reviewer)\n",
    "\n",
    "wait_for_model_serving_endpoint_to_be_ready(deployment_info.endpoint_name)"
   ]
  }
 ],
 "metadata": {
  "application/vnd.databricks.v1+notebook": {
   "dashboards": [],
   "environmentMetadata": null,
   "language": "python",
   "notebookMetadata": {
    "pythonIndentUnit": 4
   },
   "notebookName": "deploy_RAG_chatbot",
   "widgets": {}
  }
 },
 "nbformat": 4,
 "nbformat_minor": 0
}
